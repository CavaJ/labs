{
 "cells": [
  {
   "cell_type": "code",
   "execution_count": 15,
   "metadata": {
    "collapsed": false
   },
   "outputs": [],
   "source": [
    "\"\"\"\n",
    "Linear Regression with TensorFlow\n",
    "\"\"\"\n",
    "import numpy as np\n",
    "import matplotlib.pyplot as plt\n",
    "import tensorflow as tf\n",
    "%matplotlib inline  "
   ]
  },
  {
   "cell_type": "code",
   "execution_count": 17,
   "metadata": {
    "collapsed": false
   },
   "outputs": [
    {
     "data": {
      "text/plain": [
       "<matplotlib.legend.Legend at 0x7f39944c0790>"
      ]
     },
     "execution_count": 17,
     "metadata": {},
     "output_type": "execute_result"
    },
    {
     "data": {
      "image/png": "[encoded data removed]",
      "text/plain": [
       "<matplotlib.figure.Figure at 0x7f3994659950>"
      ]
     },
     "metadata": {},
     "output_type": "display_data"
    }
   ],
   "source": [
    "# Generate training data\n",
    "np.random.seed(1)\n",
    "def f(x, a, b):\n",
    "    n    = train_X.size\n",
    "    vals = np.zeros((1, n))\n",
    "    for i in range(0, n):\n",
    "        ax  = np.multiply(a, x.item(i))\n",
    "        val = np.add(ax, b)\n",
    "        vals[0, i] = val\n",
    "    return vals\n",
    "\n",
    "Wref = 0.7\n",
    "bref = -1.\n",
    "n    = 20\n",
    "noise_var = 0.001\n",
    "\n",
    "train_X   = np.random.random((1, n))\n",
    "ref_Y     = f(train_X, Wref, bref)\n",
    "train_Y   = ref_Y + np.sqrt(noise_var)*np.random.randn(1, n)\n",
    "\n",
    "# Plot\n",
    "plt.figure(1)\n",
    "plt.plot(train_X[0, :], ref_Y[0, :], 'ro', label='Original data')\n",
    "plt.plot(train_X[0, :], train_Y[0, :], 'bo', label='Training data')\n",
    "plt.axis('equal')\n",
    "plt.legend(loc='lower right')"
   ]
  },
  {
   "cell_type": "code",
   "execution_count": 10,
   "metadata": {
    "collapsed": true
   },
   "outputs": [],
   "source": [
    "# Prepare for Linear Regression\n",
    "\n",
    "# Parameters \n",
    "training_epochs = 2000\n",
    "display_step    = 50\n",
    "\n",
    "# Set TensorFlow Graph\n",
    "X = tf.placeholder(tf.float32, name=\"input\")\n",
    "Y = tf.placeholder(tf.float32, name=\"output\")\n",
    "W = tf.Variable(np.random.randn(), name=\"weight\")\n",
    "b = tf.Variable(np.random.randn(), name=\"bias\")\n",
    "\n",
    "# Construct a Model\n",
    "activation = tf.add(tf.mul(X, W), b)\n",
    "\n",
    "# Define Error Measure and Optimizer\n",
    "learning_rate   = 0.01\n",
    "cost = tf.reduce_mean(tf.pow(activation-Y, 2))\n",
    "# learning_rate   = 0.001\n",
    "# cost = tf.sqrt(tf.reduce_sum(tf.pow(activation-Y, 2)))\n",
    "optimizer = tf.train.GradientDescentOptimizer(learning_rate).minimize(cost) #Gradient descent\n",
    "\n",
    "# Initializer\n",
    "init = tf.initialize_all_variables()"
   ]
  },
  {
   "cell_type": "code",
   "execution_count": 11,
   "metadata": {
    "collapsed": false
   },
   "outputs": [
    {
     "name": "stdout",
     "output_type": "stream",
     "text": [
      "('Epoch:', '0001', 'cost=', '0.21532')\n",
      "(' Wtemp is', '-0.6964', 'btemp is', '-0.1715')\n",
      "(' Wref is', '0.7000', 'bref is', '-1.0000')\n",
      "('Epoch:', '0051', 'cost=', '0.01696')\n",
      "(' Wtemp is', '0.1656', 'btemp is', '-0.7954')\n",
      "(' Wref is', '0.7000', 'bref is', '-1.0000')\n",
      "('Epoch:', '0101', 'cost=', '0.00264')\n",
      "(' Wtemp is', '0.5047', 'btemp is', '-0.9280')\n",
      "(' Wref is', '0.7000', 'bref is', '-1.0000')\n",
      "('Epoch:', '0151', 'cost=', '0.00083')\n",
      "(' Wtemp is', '0.6247', 'btemp is', '-0.9750')\n",
      "(' Wref is', '0.7000', 'bref is', '-1.0000')\n",
      "('Epoch:', '0201', 'cost=', '0.00060')\n",
      "(' Wtemp is', '0.6672', 'btemp is', '-0.9916')\n",
      "(' Wref is', '0.7000', 'bref is', '-1.0000')\n",
      "('Epoch:', '0251', 'cost=', '0.00057')\n",
      "(' Wtemp is', '0.6823', 'btemp is', '-0.9975')\n",
      "(' Wref is', '0.7000', 'bref is', '-1.0000')\n",
      "('Epoch:', '0301', 'cost=', '0.00057')\n",
      "(' Wtemp is', '0.6876', 'btemp is', '-0.9996')\n",
      "(' Wref is', '0.7000', 'bref is', '-1.0000')\n",
      "('Epoch:', '0351', 'cost=', '0.00056')\n",
      "(' Wtemp is', '0.6895', 'btemp is', '-1.0003')\n",
      "(' Wref is', '0.7000', 'bref is', '-1.0000')\n",
      "('Epoch:', '0401', 'cost=', '0.00056')\n",
      "(' Wtemp is', '0.6901', 'btemp is', '-1.0006')\n",
      "(' Wref is', '0.7000', 'bref is', '-1.0000')\n",
      "('Epoch:', '0451', 'cost=', '0.00056')\n",
      "(' Wtemp is', '0.6904', 'btemp is', '-1.0007')\n",
      "(' Wref is', '0.7000', 'bref is', '-1.0000')\n",
      "('Epoch:', '0501', 'cost=', '0.00056')\n",
      "(' Wtemp is', '0.6905', 'btemp is', '-1.0007')\n",
      "(' Wref is', '0.7000', 'bref is', '-1.0000')\n",
      "('Epoch:', '0551', 'cost=', '0.00056')\n",
      "(' Wtemp is', '0.6905', 'btemp is', '-1.0007')\n",
      "(' Wref is', '0.7000', 'bref is', '-1.0000')\n",
      "('Epoch:', '0601', 'cost=', '0.00056')\n",
      "(' Wtemp is', '0.6905', 'btemp is', '-1.0007')\n",
      "(' Wref is', '0.7000', 'bref is', '-1.0000')\n",
      "('Epoch:', '0651', 'cost=', '0.00056')\n",
      "(' Wtemp is', '0.6905', 'btemp is', '-1.0007')\n",
      "(' Wref is', '0.7000', 'bref is', '-1.0000')\n",
      "('Epoch:', '0701', 'cost=', '0.00056')\n",
      "(' Wtemp is', '0.6905', 'btemp is', '-1.0007')\n",
      "(' Wref is', '0.7000', 'bref is', '-1.0000')\n",
      "('Epoch:', '0751', 'cost=', '0.00056')\n",
      "(' Wtemp is', '0.6905', 'btemp is', '-1.0007')\n",
      "(' Wref is', '0.7000', 'bref is', '-1.0000')\n",
      "('Epoch:', '0801', 'cost=', '0.00056')\n",
      "(' Wtemp is', '0.6905', 'btemp is', '-1.0007')\n",
      "(' Wref is', '0.7000', 'bref is', '-1.0000')\n",
      "('Epoch:', '0851', 'cost=', '0.00056')\n",
      "(' Wtemp is', '0.6905', 'btemp is', '-1.0007')\n",
      "(' Wref is', '0.7000', 'bref is', '-1.0000')\n",
      "('Epoch:', '0901', 'cost=', '0.00056')\n",
      "(' Wtemp is', '0.6905', 'btemp is', '-1.0007')\n",
      "(' Wref is', '0.7000', 'bref is', '-1.0000')\n",
      "('Epoch:', '0951', 'cost=', '0.00056')\n",
      "(' Wtemp is', '0.6905', 'btemp is', '-1.0007')\n",
      "(' Wref is', '0.7000', 'bref is', '-1.0000')\n",
      "('Epoch:', '1001', 'cost=', '0.00056')\n",
      "(' Wtemp is', '0.6905', 'btemp is', '-1.0007')\n",
      "(' Wref is', '0.7000', 'bref is', '-1.0000')\n",
      "('Epoch:', '1051', 'cost=', '0.00056')\n",
      "(' Wtemp is', '0.6905', 'btemp is', '-1.0007')\n",
      "(' Wref is', '0.7000', 'bref is', '-1.0000')\n",
      "('Epoch:', '1101', 'cost=', '0.00056')\n",
      "(' Wtemp is', '0.6905', 'btemp is', '-1.0007')\n",
      "(' Wref is', '0.7000', 'bref is', '-1.0000')\n",
      "('Epoch:', '1151', 'cost=', '0.00056')\n",
      "(' Wtemp is', '0.6905', 'btemp is', '-1.0007')\n",
      "(' Wref is', '0.7000', 'bref is', '-1.0000')\n",
      "('Epoch:', '1201', 'cost=', '0.00056')\n",
      "(' Wtemp is', '0.6905', 'btemp is', '-1.0007')\n",
      "(' Wref is', '0.7000', 'bref is', '-1.0000')\n",
      "('Epoch:', '1251', 'cost=', '0.00056')\n",
      "(' Wtemp is', '0.6905', 'btemp is', '-1.0007')\n",
      "(' Wref is', '0.7000', 'bref is', '-1.0000')\n",
      "('Epoch:', '1301', 'cost=', '0.00056')\n",
      "(' Wtemp is', '0.6905', 'btemp is', '-1.0007')\n",
      "(' Wref is', '0.7000', 'bref is', '-1.0000')\n",
      "('Epoch:', '1351', 'cost=', '0.00056')\n",
      "(' Wtemp is', '0.6905', 'btemp is', '-1.0007')\n",
      "(' Wref is', '0.7000', 'bref is', '-1.0000')\n",
      "('Epoch:', '1401', 'cost=', '0.00056')\n",
      "(' Wtemp is', '0.6905', 'btemp is', '-1.0007')\n",
      "(' Wref is', '0.7000', 'bref is', '-1.0000')\n",
      "('Epoch:', '1451', 'cost=', '0.00056')\n",
      "(' Wtemp is', '0.6905', 'btemp is', '-1.0007')\n",
      "(' Wref is', '0.7000', 'bref is', '-1.0000')\n",
      "('Epoch:', '1501', 'cost=', '0.00056')\n",
      "(' Wtemp is', '0.6905', 'btemp is', '-1.0007')\n",
      "(' Wref is', '0.7000', 'bref is', '-1.0000')\n",
      "('Epoch:', '1551', 'cost=', '0.00056')\n",
      "(' Wtemp is', '0.6905', 'btemp is', '-1.0007')\n",
      "(' Wref is', '0.7000', 'bref is', '-1.0000')\n",
      "('Epoch:', '1601', 'cost=', '0.00056')\n",
      "(' Wtemp is', '0.6905', 'btemp is', '-1.0007')\n",
      "(' Wref is', '0.7000', 'bref is', '-1.0000')\n",
      "('Epoch:', '1651', 'cost=', '0.00056')\n",
      "(' Wtemp is', '0.6905', 'btemp is', '-1.0007')\n",
      "(' Wref is', '0.7000', 'bref is', '-1.0000')\n",
      "('Epoch:', '1701', 'cost=', '0.00056')\n",
      "(' Wtemp is', '0.6905', 'btemp is', '-1.0007')\n",
      "(' Wref is', '0.7000', 'bref is', '-1.0000')\n",
      "('Epoch:', '1751', 'cost=', '0.00056')\n",
      "(' Wtemp is', '0.6905', 'btemp is', '-1.0007')\n",
      "(' Wref is', '0.7000', 'bref is', '-1.0000')\n",
      "('Epoch:', '1801', 'cost=', '0.00056')\n",
      "(' Wtemp is', '0.6905', 'btemp is', '-1.0007')\n",
      "(' Wref is', '0.7000', 'bref is', '-1.0000')\n",
      "('Epoch:', '1851', 'cost=', '0.00056')\n",
      "(' Wtemp is', '0.6905', 'btemp is', '-1.0007')\n",
      "(' Wref is', '0.7000', 'bref is', '-1.0000')\n",
      "('Epoch:', '1901', 'cost=', '0.00056')\n",
      "(' Wtemp is', '0.6905', 'btemp is', '-1.0007')\n",
      "(' Wref is', '0.7000', 'bref is', '-1.0000')\n",
      "('Epoch:', '1951', 'cost=', '0.00056')\n",
      "(' Wtemp is', '0.6905', 'btemp is', '-1.0007')\n",
      "(' Wref is', '0.7000', 'bref is', '-1.0000')\n"
     ]
    }
   ],
   "source": [
    "# Run! \n",
    "sess = tf.Session()\n",
    "# Initialize\n",
    "sess.run(init)    \n",
    "for epoch in range(training_epochs):\n",
    "    for (x, y) in zip(train_X[0, :], train_Y[0, :]):\n",
    "        # print \"x: \", x, \" y: \", y\n",
    "        sess.run(optimizer, feed_dict={X:x, Y:y})\n",
    "    \n",
    "    # Check cost\n",
    "    if epoch % display_step == 0:\n",
    "        costval = sess.run(cost, feed_dict={X: train_X, Y:train_Y})\n",
    "        print (\"Epoch:\", \"%04d\"%(epoch+1), \"cost=\", \"{:.5f}\".format(costval))\n",
    "        Wtemp = sess.run(W)\n",
    "        btemp = sess.run(b)\n",
    "        print (\" Wtemp is\", \"{:.4f}\".format(Wtemp), \"btemp is\", \"{:.4f}\".format(btemp))\n",
    "        print (\" Wref is\", \"{:.4f}\".format(Wref), \"bref is\", \"{:.4f}\".format(bref))\n",
    "        \n",
    "# Final W and b\n",
    "Wopt = sess.run(W)\n",
    "bopt = sess.run(b)\n",
    "fopt = f(train_X, Wopt, bopt)"
   ]
  },
  {
   "cell_type": "code",
   "execution_count": 13,
   "metadata": {
    "collapsed": false
   },
   "outputs": [
    {
     "data": {
      "text/plain": [
       "<matplotlib.legend.Legend at 0x7f399468e450>"
      ]
     },
     "execution_count": 13,
     "metadata": {},
     "output_type": "execute_result"
    },
    {
     "data": {
      "image/png": "[encoded data removed]",
      "text/plain": [
       "<matplotlib.figure.Figure at 0x7f399f4b2450>"
      ]
     },
     "metadata": {},
     "output_type": "display_data"
    }
   ],
   "source": [
    "# Plot Results\n",
    "plt.figure(2)\n",
    "plt.plot(train_X[0, :], ref_Y[0, :], 'ro', label='Original data')\n",
    "plt.plot(train_X[0, :], train_Y[0, :], 'bo', label='Training data')\n",
    "plt.plot(train_X[0, :], fopt[0, :], 'k-', label='Fitted Line')\n",
    "plt.axis('equal')\n",
    "plt.legend(loc='lower right')"
   ]
  }
 ],
 "metadata": {
  "kernelspec": {
   "display_name": "Python 2",
   "language": "python",
   "name": "python2"
  },
  "language_info": {
   "codemirror_mode": {
    "name": "ipython",
    "version": 2
   },
   "file_extension": ".py",
   "mimetype": "text/x-python",
   "name": "python",
   "nbconvert_exporter": "python",
   "pygments_lexer": "ipython2",
   "version": "2.7.11"
  }
 },
 "nbformat": 4,
 "nbformat_minor": 0
}
