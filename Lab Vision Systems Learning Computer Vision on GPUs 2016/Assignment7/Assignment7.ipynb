{
 "cells": [
  {
   "cell_type": "code",
   "execution_count": 41,
   "metadata": {
    "collapsed": false
   },
   "outputs": [
    {
     "name": "stdout",
     "output_type": "stream",
     "text": [
      "Extracting data/train-images-idx3-ubyte.gz\n",
      "Extracting data/train-labels-idx1-ubyte.gz\n",
      "Extracting data/t10k-images-idx3-ubyte.gz\n",
      "Extracting data/t10k-labels-idx1-ubyte.gz\n",
      "55000 train images loaded\n",
      "10000 test images loaded\n",
      "784 dimensional input\n",
      "10 classes\n"
     ]
    }
   ],
   "source": [
    "import numpy as np\n",
    "import matplotlib.pyplot as plt\n",
    "import tensorflow as tf\n",
    "from tensorflow.examples.tutorials.mnist import input_data\n",
    "from tensorflow.models.rnn import rnn, rnn_cell\n",
    "%matplotlib inline\n",
    "\n",
    "mnist = input_data.read_data_sets('data/', one_hot=True)\n",
    "trainimgs   = mnist.train.images\n",
    "trainlabels = mnist.train.labels\n",
    "testimgs   = mnist.test.images\n",
    "testlabels  = mnist.test.labels\n",
    "\n",
    "\n",
    "ntrain = trainimgs.shape[0] # numbe of training examples\n",
    "\n",
    "nclasses = trainlabels.shape[1] # number of output classes\n",
    "\n",
    "dim    = trainimgs.shape[1] # dimension of input\n",
    "\n",
    "ntest  = testimgs.shape[0] # number of test examples\n",
    "\n",
    "print (\"%d train images loaded\" % (ntrain))\n",
    "print (\"%d test images loaded\" % (ntest))\n",
    "print (\"%d dimensional input\" % (dim))\n",
    "print (\"%d classes\" % (nclasses))"
   ]
  },
  {
   "cell_type": "code",
   "execution_count": 42,
   "metadata": {
    "collapsed": false
   },
   "outputs": [],
   "source": [
    "# provided code from LSTM_MNIST.ipynb\n",
    "\n",
    "# Recurrent neural network \n",
    "diminput  = 28\n",
    "dimhidden = 128\n",
    "dimoutput = nclasses\n",
    "nsteps    = 28\n",
    "weights = {\n",
    "    'hidden': tf.Variable(tf.random_normal([diminput, dimhidden])), \n",
    "    'out': tf.Variable(tf.random_normal([dimhidden, dimoutput]))\n",
    "}\n",
    "biases = {\n",
    "    'hidden': tf.Variable(tf.random_normal([dimhidden])),\n",
    "    'out': tf.Variable(tf.random_normal([dimoutput]))\n",
    "}\n",
    "def _RNN(_X, _istate, _W, _b, _nsteps, _name):\n",
    "    # 1. Permute input from [batchsize, nsteps, diminput] => [nsteps, batchsize, diminput]\n",
    "    _X = tf.transpose(_X, [1, 0, 2])\n",
    "    # 2. Reshape input to [nsteps*batchsize, diminput] \n",
    "    _X = tf.reshape(_X, [-1, diminput])\n",
    "    # 3. Input layer => Hidden layer\n",
    "    _H = tf.matmul(_X, _W['hidden']) + _b['hidden']\n",
    "    # 4. Splite data to 'nsteps' chunks. An i-th chunck indicates i-th batch data \n",
    "    _Hsplit = tf.split(0, _nsteps, _H) \n",
    "    # 5. Get LSTM's final output (_O) and state (_S)\n",
    "    #    Both _O and _S consist of 'batchsize' elements\n",
    "    with tf.variable_scope(_name, reuse=True): # <= NEW reuse = TRUE, to get rid of naming collision\n",
    "        lstm_cell = rnn_cell.BasicLSTMCell(dimhidden, forget_bias=1.0)\n",
    "        _LSTM_O, _LSTM_S = rnn.rnn(lstm_cell, _Hsplit, initial_state=_istate)\n",
    "    # 6. Output\n",
    "    _O = tf.matmul(_LSTM_O[-1], _W['out']) + _b['out']    \n",
    "    # Return! \n",
    "    return {\n",
    "        'X': _X, 'H': _H, 'Hsplit': _Hsplit,\n",
    "        'LSTM_O': _LSTM_O, 'LSTM_S': _LSTM_S, 'O': _O \n",
    "    }"
   ]
  },
  {
   "cell_type": "code",
   "execution_count": 43,
   "metadata": {
    "collapsed": false
   },
   "outputs": [
    {
     "name": "stdout",
     "output_type": "stream",
     "text": [
      "Epoch: 000/007 cost: 0.561759554\n",
      "Training accuracy: 0.992\n",
      "Test accuracy: 0.909\n",
      "Epoch: 001/007 cost: 0.148232929\n",
      "Training accuracy: 0.961\n",
      "Test accuracy: 0.943\n",
      "Epoch: 002/007 cost: 0.090823532\n",
      "Training accuracy: 0.938\n",
      "Test accuracy: 0.967\n",
      "Epoch: 003/007 cost: 0.067435335\n",
      "Training accuracy: 1.000\n",
      "Test accuracy: 0.964\n",
      "Epoch: 004/007 cost: 0.054738691\n",
      "Training accuracy: 0.984\n",
      "Test accuracy: 0.978\n",
      "Epoch: 005/007 cost: 0.045760867\n",
      "Training accuracy: 0.992\n",
      "Test accuracy: 0.975\n",
      "Epoch: 006/007 cost: 0.037110288\n",
      "Training accuracy: 0.984\n",
      "Test accuracy: 0.977\n",
      "DONE!\n"
     ]
    }
   ],
   "source": [
    "# 1. • Complete implementation of MNIST training with LSTM model\n",
    "\n",
    "# define input x and teacher y\n",
    "x  = tf.placeholder(tf.float32, [None, nsteps, diminput])\n",
    "y  = tf.placeholder(tf.float32, [None, nclasses])\n",
    "\n",
    "# 1.1. • Training with initialized weights and zero 2x128 initial states (state & cell)\n",
    "stateAndCell = tf.placeholder(tf.float32, [None, 2 * dimhidden])\n",
    "\n",
    "# 1.2. • Use the provided RNN model\n",
    "customRNN  = _RNN(x, stateAndCell, weights, biases, nsteps, 'custom')\n",
    "\n",
    "# Parameters\n",
    "learning_rate   = 0.001\n",
    "training_epochs = 7 # <= gives 0.978 test accuracy\n",
    "batch_size      = 128\n",
    "display_step    = 1\n",
    "\n",
    "# define cost function based on output of rnn and teach value y\n",
    "# Index '0' refers to output of recurrent neural networks\n",
    "cost   = tf.reduce_mean(tf.nn.softmax_cross_entropy_with_logits(customRNN['O'], y))\n",
    "optimizer   = tf.train.AdamOptimizer(learning_rate).minimize(cost)\n",
    "accuracy   = tf.reduce_mean(tf.cast(tf.equal(tf.argmax(customRNN['O'], 1), tf.argmax(y, 1)), tf.float32))\n",
    "\n",
    "# init all variables\n",
    "init   = tf.initialize_all_variables()\n",
    "\n",
    "# Launch the graph\n",
    "sess = tf.Session()\n",
    "sess.run(init)\n",
    "\n",
    "# Training cycle\n",
    "for epoch in range(training_epochs):\n",
    "    avg_cost = 0.\n",
    "    num_batch = int(ntrain / batch_size)\n",
    "    # Loop over all batches\n",
    "    for i in range(num_batch): \n",
    "        batch_xs, batch_ys = mnist.train.next_batch(batch_size)\n",
    "        batch_xs = batch_xs.reshape((batch_size, nsteps, diminput)) # reshape images in thr batch to ? x 28 x 28\n",
    "        \n",
    "        # Fit training using batch data\n",
    "        sess.run(optimizer, feed_dict={x: batch_xs, y: batch_ys, stateAndCell: np.zeros((batch_size, 2 * dimhidden))})\n",
    "        # Compute average loss\n",
    "        avg_cost += sess.run(cost, feed_dict={x: batch_xs, y: batch_ys, \n",
    "                                              stateAndCell: np.zeros((batch_size, 2 * dimhidden))}) / num_batch\n",
    "\n",
    "    # Display logs per epoch step\n",
    "    if epoch % display_step == 0:\n",
    "        print (\"Epoch: %03d/%03d cost: %.9f\" % (epoch, training_epochs, avg_cost))\n",
    "        train_acc = sess.run(accuracy, feed_dict={x: batch_xs, y: batch_ys, \n",
    "                                                  stateAndCell: np.zeros((batch_size, 2 * dimhidden))})\n",
    "        print (\"Training accuracy: %.3f\" % (train_acc))\n",
    "        testimgs = testimgs.reshape((ntest, nsteps, diminput)) # reshape test images to ? x 28 x 28\n",
    "        test_acc = sess.run(accuracy, feed_dict={x: testimgs, y: testlabels, \n",
    "                                                 stateAndCell: np.zeros((ntest, 2 * dimhidden))})\n",
    "        print (\"Test accuracy: %.3f\" % (test_acc))\n",
    "\n",
    "print (\"DONE!\")"
   ]
  },
  {
   "cell_type": "code",
   "execution_count": 44,
   "metadata": {
    "collapsed": false
   },
   "outputs": [
    {
     "name": "stdout",
     "output_type": "stream",
     "text": [
      "Test accuracy is 0.489, when using 20 steps: \n"
     ]
    }
   ],
   "source": [
    "# 2. • Test accuracy with smaller number of steps\n",
    "\n",
    "# 2.1. • 28 steps mean using full image (28 x 28)\n",
    "smallerSteps = 20 # number of steps <= 28\n",
    "\n",
    "# 2.2. • You can use smaller steps to predict test image label. It means the\n",
    "# trained LSTM model works even the input image is truncated with a\n",
    "# certain level of accuracy\n",
    "testimgs = testimgs.reshape((ntest, nsteps, diminput)) # reshape test images to ? x 28 x 28\n",
    "truncated_imgs = np.zeros(testimgs.shape)\n",
    "truncated_imgs[:, 28 - smallerSteps:] = testimgs[:, :smallerSteps, :]\n",
    "\n",
    "# 2.3. • Show the accuracy drop-out according to the number of steps.\n",
    "test_acc = sess.run(accuracy, feed_dict={x: truncated_imgs, y: testlabels, \n",
    "                                     stateAndCell: np.zeros((ntest, 2 * dimhidden))})\n",
    "print (\"Test accuracy is %.3f, when using %d steps: \" % (test_acc, smallerSteps))"
   ]
  },
  {
   "cell_type": "code",
   "execution_count": null,
   "metadata": {
    "collapsed": true
   },
   "outputs": [],
   "source": []
  }
 ],
 "metadata": {
  "kernelspec": {
   "display_name": "Python 2",
   "language": "python",
   "name": "python2"
  },
  "language_info": {
   "codemirror_mode": {
    "name": "ipython",
    "version": 2
   },
   "file_extension": ".py",
   "mimetype": "text/x-python",
   "name": "python",
   "nbconvert_exporter": "python",
   "pygments_lexer": "ipython2",
   "version": "2.7.10"
  }
 },
 "nbformat": 4,
 "nbformat_minor": 0
}
