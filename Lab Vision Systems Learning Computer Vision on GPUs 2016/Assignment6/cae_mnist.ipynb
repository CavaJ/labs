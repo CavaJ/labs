{
 "cells": [
  {
   "cell_type": "code",
   "execution_count": 1,
   "metadata": {
    "collapsed": false
   },
   "outputs": [
    {
     "name": "stdout",
     "output_type": "stream",
     "text": [
      "Extracting data/train-images-idx3-ubyte.gz\n",
      "Extracting data/train-labels-idx1-ubyte.gz\n",
      "Extracting data/t10k-images-idx3-ubyte.gz\n",
      "Extracting data/t10k-labels-idx1-ubyte.gz\n"
     ]
    }
   ],
   "source": [
    "\"\"\"\n",
    " Convolutional AutoEncoder\n",
    "\"\"\"\n",
    "import matplotlib.pyplot as plt\n",
    "import numpy as np\n",
    "import math\n",
    "import tensorflow as tf\n",
    "import tensorflow.examples.tutorials.mnist.input_data as input_data\n",
    "%matplotlib inline \n",
    "\n",
    "mnist = input_data.read_data_sets(\"data/\", one_hot=True)\n",
    "\n",
    "trainimgs   = mnist.train.images\n",
    "trainlabels = mnist.train.labels\n",
    "testimgs    = mnist.test.images\n",
    "testlabels  = mnist.test.labels\n",
    "\n",
    "ntrain      = trainimgs.shape[0]\n",
    "ntest       = testimgs.shape[0]\n",
    "dim         = trainimgs.shape[1]\n",
    "nout        = trainlabels.shape[1]"
   ]
  },
  {
   "cell_type": "code",
   "execution_count": 2,
   "metadata": {
    "collapsed": true
   },
   "outputs": [],
   "source": [
    "# Define convolutional auto-encoder (CAE)\n",
    "\n",
    "n1 = 10\n",
    "n2 = 20\n",
    "n3 = 30\n",
    "\n",
    "weights = {\n",
    "    'ce1': tf.Variable(tf.random_normal([3, 3, 1, n1], stddev=0.1)),\n",
    "    'ce2': tf.Variable(tf.random_normal([3, 3, n1, n2], stddev=0.1)),\n",
    "    'ce3': tf.Variable(tf.random_normal([3, 3, n2, n3], stddev=0.1)),\n",
    "    'cd3': tf.Variable(tf.random_normal([3, 3, n2, n3], stddev=0.1)),\n",
    "    'cd2': tf.Variable(tf.random_normal([3, 3, n1, n2], stddev=0.1)),\n",
    "    'cd1': tf.Variable(tf.random_normal([3, 3, 1, n1], stddev=0.1))\n",
    "}\n",
    "\n",
    "biases = {\n",
    "    'be1': tf.Variable(tf.random_normal([n1], stddev=0.1)),\n",
    "    'be2': tf.Variable(tf.random_normal([n2], stddev=0.1)),\n",
    "    'be3': tf.Variable(tf.random_normal([n3], stddev=0.1)),\n",
    "    'bd3': tf.Variable(tf.random_normal([n2], stddev=0.1)),\n",
    "    'bd2': tf.Variable(tf.random_normal([n1], stddev=0.1)),\n",
    "    'bd1': tf.Variable(tf.random_normal([1], stddev=0.1))\n",
    "}\n",
    "def cae(_X, _W, _b):\n",
    "    _input_r = tf.reshape(_X, shape=[-1, 28, 28, 1])\n",
    "    \n",
    "    # Encoder\n",
    "    _ce1 = tf.nn.relu(\n",
    "        tf.add(\n",
    "            tf.nn.conv2d(_input_r, _W['ce1'], strides=[1, 2, 2, 1], padding='SAME')\n",
    "            , _b['be1']\n",
    "        ))\n",
    "    _ce2 = tf.nn.relu(\n",
    "        tf.add(\n",
    "            tf.nn.conv2d(_ce1, _W['ce2'], strides=[1, 2, 2, 1], padding='SAME')\n",
    "            , _b['be2']\n",
    "        )) \n",
    "    _ce3 = tf.nn.relu(\n",
    "        tf.add(\n",
    "            tf.nn.conv2d(_ce2, _W['ce3'], strides=[1, 2, 2, 1], padding='SAME')\n",
    "            , _b['be3']\n",
    "        )) \n",
    "    \n",
    "    # Decoder\n",
    "    _cd3 = tf.nn.relu(\n",
    "        tf.add(\n",
    "            tf.nn.conv2d_transpose(_ce3, _W['cd3']\n",
    "                , tf.pack([tf.shape(_X)[0], 7, 7, n2])\n",
    "                , strides=[1, 2, 2, 1], padding='SAME')\n",
    "            , _b['bd3']\n",
    "        )) \n",
    "    _cd2 = tf.nn.relu(\n",
    "        tf.add(\n",
    "            tf.nn.conv2d_transpose(_cd3, _W['cd2'] # <== ERROR!\n",
    "                , tf.pack([tf.shape(_X)[0], 14, 14, n1])\n",
    "                , strides=[1, 2, 2, 1], padding='SAME') \n",
    "            , _b['bd2']\n",
    "        )) \n",
    "    _cd1 = tf.nn.relu(\n",
    "        tf.add(\n",
    "            tf.nn.conv2d_transpose(_cd2, _W['cd1']\n",
    "                , tf.pack([tf.shape(_X)[0], 28, 28, 1])\n",
    "                , strides=[1, 2, 2, 1], padding='SAME')\n",
    "            , _b['bd1']\n",
    "        )) \n",
    "    _out = _cd1\n",
    "    return {'input_r': _input_r\n",
    "            , 'ce1': _ce1, 'ce2': _ce2, 'ce3': _ce3\n",
    "            , 'cd3': _cd3, 'cd2': _cd2, 'cd1': _cd1\n",
    "            , 'layers': (_input_r, _ce1, _ce2, _ce3, _cd3, _cd2, _cd1)\n",
    "            , 'out': _out}\n",
    "\n",
    "# Define functions\n",
    "x = tf.placeholder(tf.float32, [None, dim])\n",
    "pred = cae(x, weights, biases)['out']\n",
    "cost = tf.reduce_sum(tf.square(cae(x, weights, biases)['input_r'] \n",
    "            - cae(x, weights, biases)['out']))\n",
    "learning_rate = 0.001\n",
    "optm = tf.train.AdamOptimizer(learning_rate).minimize(cost)\n",
    "init = tf.initialize_all_variables()\n"
   ]
  },
  {
   "cell_type": "code",
   "execution_count": 3,
   "metadata": {
    "collapsed": false,
    "scrolled": false
   },
   "outputs": [
    {
     "name": "stdout",
     "output_type": "stream",
     "text": [
      "Extracting data/train-images-idx3-ubyte.gz\n",
      "Extracting data/train-labels-idx1-ubyte.gz\n",
      "Extracting data/t10k-images-idx3-ubyte.gz\n",
      "Extracting data/t10k-labels-idx1-ubyte.gz\n",
      "Strart training..\n",
      "(0, '/', 50, 2377.6028)\n",
      "(1, '/', 50, 1985.1049)\n",
      "(2, '/', 50, 1981.363)\n",
      "(3, '/', 50, 1851.3647)\n",
      "(4, '/', 50, 1884.0516)\n",
      "(5, '/', 50, 1822.033)\n",
      "(6, '/', 50, 1845.2052)\n",
      "(7, '/', 50, 1893.5502)\n",
      "(8, '/', 50, 1805.2229)\n",
      "(9, '/', 50, 1890.8452)\n",
      "(10, '/', 50, 1837.4917)\n",
      "(11, '/', 50, 1910.6588)\n",
      "(12, '/', 50, 1851.2688)\n",
      "(13, '/', 50, 1788.0311)\n",
      "(14, '/', 50, 1808.7683)\n",
      "(15, '/', 50, 1861.2947)\n",
      "(16, '/', 50, 1854.598)\n",
      "(17, '/', 50, 1832.3267)\n",
      "(18, '/', 50, 1856.7963)\n",
      "(19, '/', 50, 1820.3894)\n",
      "(20, '/', 50, 1803.618)\n",
      "(21, '/', 50, 1770.6145)\n",
      "(22, '/', 50, 1871.1514)\n",
      "(23, '/', 50, 1791.218)\n",
      "(24, '/', 50, 1770.0977)\n",
      "(25, '/', 50, 1825.9595)\n",
      "(26, '/', 50, 1834.1893)\n",
      "(27, '/', 50, 1729.1162)\n",
      "(28, '/', 50, 1818.0212)\n",
      "(29, '/', 50, 1819.241)\n",
      "(30, '/', 50, 1831.2142)\n",
      "(31, '/', 50, 1770.7191)\n",
      "(32, '/', 50, 1751.8689)\n",
      "(33, '/', 50, 1749.6704)\n",
      "(34, '/', 50, 1805.3762)\n",
      "(35, '/', 50, 1779.5344)\n",
      "(36, '/', 50, 1807.0829)\n",
      "(37, '/', 50, 1728.6742)\n",
      "(38, '/', 50, 1852.8893)\n",
      "(39, '/', 50, 1887.2629)\n",
      "(40, '/', 50, 1783.84)\n",
      "(41, '/', 50, 1812.105)\n",
      "(42, '/', 50, 1765.7334)\n",
      "(43, '/', 50, 1781.5614)\n",
      "(44, '/', 50, 1738.8881)\n",
      "(45, '/', 50, 1818.8259)\n",
      "(46, '/', 50, 1800.4966)\n",
      "(47, '/', 50, 1752.8973)\n",
      "(48, '/', 50, 1790.8633)\n",
      "(49, '/', 50, 1764.1302)\n",
      "Training done. \n"
     ]
    }
   ],
   "source": [
    "\n",
    "# We create a session to use the graph\n",
    "sess = tf.Session()\n",
    "sess.run(init)\n",
    "\n",
    "# %%\n",
    "mnist = input_data.read_data_sets('data', one_hot=True)\n",
    "mean_img = np.mean(mnist.train.images, axis=0)\n",
    "\n",
    "# Fit all training data\n",
    "batch_size = 100\n",
    "n_epochs   = 50\n",
    "print(\"Strart training..\")\n",
    "for epoch_i in range(n_epochs):\n",
    "    for batch_i in range(mnist.train.num_examples // batch_size):\n",
    "        batch_xs, _ = mnist.train.next_batch(batch_size)\n",
    "        train = np.array([img - mean_img for img in batch_xs])\n",
    "        sess.run(optm, feed_dict={x: train})\n",
    "    print(epoch_i, \"/\", n_epochs, sess.run(cost, feed_dict={x: train}))\n",
    "\n",
    "print(\"Training done. \")\n"
   ]
  },
  {
   "cell_type": "code",
   "execution_count": 4,
   "metadata": {
    "collapsed": false
   },
   "outputs": [
    {
     "name": "stdout",
     "output_type": "stream",
     "text": [
      "(10, 28, 28, 1)\n"
     ]
    },
    {
     "data": {
      "image/png": "[encoded data removed]",
      "text/plain": [
       "<matplotlib.figure.Figure at 0x7f591ef03310>"
      ]
     },
     "metadata": {},
     "output_type": "display_data"
    },
    {
     "name": "stdout",
     "output_type": "stream",
     "text": [
      "layer 0's shape is (1, 28, 28, 1)\n",
      "layer 1's shape is (1, 14, 14, 10)\n",
      "layer 2's shape is (1, 7, 7, 20)\n",
      "layer 3's shape is (1, 4, 4, 30)\n",
      "layer 4's shape is (1, 7, 7, 20)\n",
      "layer 5's shape is (1, 14, 14, 10)\n",
      "layer 6's shape is (1, 28, 28, 1)\n"
     ]
    }
   ],
   "source": [
    "# Plot example reconstructions\n",
    "n_examples = 10\n",
    "test_xs, _ = mnist.test.next_batch(n_examples)\n",
    "test_xs_norm = np.array([img - mean_img for img in test_xs])\n",
    "recon = sess.run(pred, feed_dict={x: test_xs_norm})\n",
    "print(recon.shape)\n",
    "fig, axs = plt.subplots(2, n_examples, figsize=(10, 2))\n",
    "for example_i in range(n_examples):\n",
    "    axs[0][example_i].matshow(\n",
    "        np.reshape(test_xs[example_i, :], (28, 28)), cmap=plt.get_cmap('gray'))\n",
    "    axs[1][example_i].matshow(\n",
    "        np.reshape(\n",
    "            np.reshape(recon[example_i, ...], (784,)) + mean_img,\n",
    "            (28, 28)), cmap=plt.get_cmap('gray'))\n",
    "plt.draw()\n",
    "plt.show()\n",
    "\n",
    "test_xs, _ = mnist.test.next_batch(1)\n",
    "test_xs_norm = np.array([img - mean_img for img in test_xs])\n",
    "recon = sess.run(pred, feed_dict={x: test_xs_norm})\n",
    "layers = sess.run(cae(x, weights, biases)['layers'], feed_dict={x: test_xs_norm})\n",
    "for i in range(len(layers)):\n",
    "    currl = layers[i]\n",
    "    print ((\"layer %d's shape is %s\") % (i, currl.shape,))\n"
   ]
  },
  {
   "cell_type": "code",
   "execution_count": null,
   "metadata": {
    "collapsed": true
   },
   "outputs": [],
   "source": []
  }
 ],
 "metadata": {
  "kernelspec": {
   "display_name": "Python 2",
   "language": "python",
   "name": "python2"
  },
  "language_info": {
   "codemirror_mode": {
    "name": "ipython",
    "version": 2
   },
   "file_extension": ".py",
   "mimetype": "text/x-python",
   "name": "python",
   "nbconvert_exporter": "python",
   "pygments_lexer": "ipython2",
   "version": "2.7.11"
  }
 },
 "nbformat": 4,
 "nbformat_minor": 0
}
