{
 "cells": [
  {
   "cell_type": "code",
   "execution_count": 51,
   "metadata": {
    "collapsed": true
   },
   "outputs": [],
   "source": [
    "import numpy as np\n",
    "import matplotlib.pyplot as plt\n",
    "import tensorflow as tf\n",
    "from tensorflow.examples.tutorials.mnist import input_data\n",
    "%matplotlib inline  "
   ]
  },
  {
   "cell_type": "code",
   "execution_count": 52,
   "metadata": {
    "collapsed": false
   },
   "outputs": [
    {
     "name": "stdout",
     "output_type": "stream",
     "text": [
      "Successfully downloaded train-images-idx3-ubyte.gz 9912422 bytes.\n",
      "Extracting data/train-images-idx3-ubyte.gz\n",
      "Successfully downloaded train-labels-idx1-ubyte.gz 28881 bytes.\n",
      "Extracting data/train-labels-idx1-ubyte.gz\n",
      "Successfully downloaded t10k-images-idx3-ubyte.gz 1648877 bytes.\n",
      "Extracting data/t10k-images-idx3-ubyte.gz\n",
      "Successfully downloaded t10k-labels-idx1-ubyte.gz 4542 bytes.\n",
      "Extracting data/t10k-labels-idx1-ubyte.gz\n",
      "55000 train images loaded\n",
      "10000 test images loaded\n",
      "784 dimensional input\n",
      "10 classes\n"
     ]
    }
   ],
   "source": [
    "mnist = input_data.read_data_sets('data/', one_hot=True)\n",
    "trainimg   = mnist.train.images\n",
    "trainlabel = mnist.train.labels\n",
    "testimg    = mnist.test.images\n",
    "testlabel  = mnist.test.labels\n",
    "\n",
    "ntrain = trainimg.shape[0] # numbe of training examples\n",
    "\n",
    "nclass = trainlabel.shape[1] # number of output classes\n",
    "\n",
    "dim    = trainimg.shape[1] # dimension of input\n",
    "\n",
    "ntest  = testimg.shape[0] # number of test examples\n",
    "\n",
    "print (\"%d train images loaded\" % (ntrain))\n",
    "print (\"%d test images loaded\" % (ntest))\n",
    "print (\"%d dimensional input\" % (dim))\n",
    "print (\"%d classes\" % (nclass))"
   ]
  },
  {
   "cell_type": "code",
   "execution_count": 53,
   "metadata": {
    "collapsed": false
   },
   "outputs": [],
   "source": [
    "# 1. Desing encoders and decoders with convolutional layers\n",
    "# 1.1.  e.g. 3 ConvLayers (1xn1, n1xn2, n2xn3) for encoders,\n",
    "# 1.2.  3 ConvLayers (n3xn2, n2xn1, n1x1) for decoders\n",
    "\n",
    "# define n1, n2 and n3\n",
    "n1 = 5\n",
    "n2 = 10\n",
    "n3 = 15\n",
    "\n",
    "# input with dimension dim\n",
    "x = tf.placeholder(tf.float32, [None, dim])\n",
    "\n",
    "# channel size is 3 for MNIST images\n",
    "# define weights array\n",
    "weights = {\n",
    "    \n",
    "    # encoding layer\n",
    "    'wec1': tf.Variable(tf.random_normal([3, 3, 1, n1], stddev=0.1)),\n",
    "    'wec2': tf.Variable(tf.random_normal([3, 3, n1, n2], stddev=0.1)),\n",
    "    'wec3': tf.Variable(tf.random_normal([3, 3, n2, n3], stddev=0.1)),\n",
    "    \n",
    "    # decoding layer\n",
    "    'wdc1': tf.Variable(tf.random_normal([3, 3, 1, n1], stddev=0.1)), # n1x1 decode layer\n",
    "    'wdc2': tf.Variable(tf.random_normal([3, 3, n1, n2], stddev=0.1)), # n2xn1 decode layer\n",
    "    'wdc3': tf.Variable(tf.random_normal([3, 3, n2, n3], stddev=0.1)) # n3xn2 decode layer\n",
    "}\n",
    "\n",
    "# define biases for each of these layer\n",
    "biases = {\n",
    "    \n",
    "    # encoding layer\n",
    "    'bec1': tf.Variable(tf.random_normal([n1], stddev=0.1)),\n",
    "    'bec2': tf.Variable(tf.random_normal([n2], stddev=0.1)),\n",
    "    'bec3': tf.Variable(tf.random_normal([n3], stddev=0.1)),\n",
    "    \n",
    "    # decoding layer\n",
    "    'bdc1': tf.Variable(tf.random_normal([1], stddev=0.1)),\n",
    "    'bdc2': tf.Variable(tf.random_normal([n1], stddev=0.1)),\n",
    "    'bdc3': tf.Variable(tf.random_normal([n2], stddev=0.1))\n",
    "}\n",
    "\n",
    "# reshape x for convolution\n",
    "x_reshaped = tf.reshape(x, shape=[-1, 28, 28, 1])\n",
    "    \n",
    "# ====== encoder convolutinal layers ======\n",
    "\n",
    "# apply conv2d\n",
    "encoder_conv_1 = tf.nn.conv2d(x_reshaped, weights['wec1'], strides=[1, 2, 2, 1], padding='SAME')\n",
    "\n",
    "# add bias\n",
    "encoder_conv_1 = tf.add(encoder_conv_1, biases['bec1'])\n",
    "\n",
    "# apply rely\n",
    "encoder_conv_1 = tf.nn.relu(encoder_conv_1)\n",
    "    \n",
    "\n",
    "# do the same thing for 2nd encoder convolutional layer\n",
    "encoder_conv_2 = tf.nn.conv2d(encoder_conv_1, weights['wec2'], strides=[1, 2, 2, 1], padding='SAME')\n",
    "encoder_conv_2 = tf.add(encoder_conv_2, biases['bec2'])\n",
    "encoder_conv_2 = tf.nn.relu(encoder_conv_2)\n",
    "\n",
    "# yet again do the same thing 3rd encoder convolutional layer\n",
    "encoder_conv_3 = tf.nn.conv2d(encoder_conv_2, weights['wec3'], strides=[1, 2, 2, 1], padding='SAME')\n",
    "encoder_conv_3 = tf.add(encoder_conv_3, biases['bec3']) \n",
    "encoder_conv_3 = tf.nn.relu(encoder_conv_3) \n",
    "\n",
    "\n",
    "# ====== decoder convolutinal layers ======\n",
    "\n",
    "# 2. You may need to use tf.pack to make a output_shape of tf.nn.conv2d_transpose for decoders\n",
    "\n",
    "# do the same process in reverse order as compared to decoder. n2xn3 = n3xn2, n1xn2 = n2xn1, and 1xn1 = n1x1\n",
    "decoder_conv_3 = tf.nn.conv2d_transpose(encoder_conv_3, weights['wdc3'], \n",
    "                        tf.pack([tf.shape(x)[0], 7, 7, n2]), \n",
    "                        strides=[1, 2, 2, 1], padding='SAME')\n",
    "decoder_conv_3 = tf.add(decoder_conv_3, biases['bdc3'])\n",
    "decoder_conv_3 = tf.nn.relu(decoder_conv_3)\n",
    "    \n",
    "\n",
    "# now the 2nd decoder convolutional layer\n",
    "decoder_conv_2 = tf.nn.conv2d_transpose(decoder_conv_3, weights['wdc2'], \n",
    "                                        tf.pack([tf.shape(x)[0], 14, 14, n1]), \n",
    "                                        strides=[1, 2, 2, 1], padding='SAME')\n",
    "decoder_conv_2 = tf.add(decoder_conv_2 , biases['bdc2'])\n",
    "decoder_conv_2 = tf.nn.relu(decoder_conv_2) \n",
    "\n",
    "# at last the 3rd decoder convolutional layer\n",
    "decoder_conv_1 = tf.nn.conv2d_transpose(decoder_conv_2, weights['wdc1'], \n",
    "                                        tf.pack([tf.shape(x)[0], 28, 28, 1]),\n",
    "                                        strides=[1, 2, 2, 1], padding='SAME')\n",
    "decoder_conv_1 = tf.add(decoder_conv_1, biases['bdc1'])\n",
    "out = tf.nn.relu(decoder_conv_1)"
   ]
  },
  {
   "cell_type": "code",
   "execution_count": 56,
   "metadata": {
    "collapsed": false
   },
   "outputs": [
    {
     "name": "stdout",
     "output_type": "stream",
     "text": [
      "Epoch: 000/010 cost: 3083.794134510\n",
      "Epoch: 001/010 cost: 2197.603271041\n",
      "Epoch: 002/010 cost: 2099.262961386\n",
      "Epoch: 003/010 cost: 2046.555615101\n",
      "Epoch: 004/010 cost: 2017.706087697\n",
      "Epoch: 005/010 cost: 2000.053859371\n",
      "Epoch: 006/010 cost: 1988.797969423\n",
      "Epoch: 007/010 cost: 1980.747574766\n",
      "Epoch: 008/010 cost: 1974.078910149\n",
      "Epoch: 009/010 cost: 1968.910519581\n",
      "Optimization Finished!\n"
     ]
    }
   ],
   "source": [
    "# Parameters\n",
    "learning_rate   = 0.001\n",
    "training_epochs = 10\n",
    "batch_size      = 100\n",
    "display_step    = 1\n",
    "\n",
    "# Saver \n",
    "save_step = 10\n",
    "saver = tf.train.Saver(max_to_keep=training_epochs)\n",
    "\n",
    "# 3. • with a MSE cost function to minimize L(x, g(f(x)))\n",
    "\n",
    "cost = tf.reduce_sum(tf.square(x_reshaped - out)) # squared error function\n",
    "optm = tf.train.AdamOptimizer(learning_rate).minimize(cost)\n",
    "\n",
    "# init all variables\n",
    "init = tf.initialize_all_variables()\n",
    "\n",
    "# Launch the graph\n",
    "sess = tf.Session()\n",
    "sess.run(init)\n",
    "\n",
    "# as presented in assignment6 pdf file\n",
    "mean_image = np.mean(mnist.train.images, axis=0)\n",
    "                     \n",
    "# Training cycle\n",
    "for epoch in range(training_epochs):\n",
    "    avg_cost = 0.\n",
    "    num_batch = int(ntrain / batch_size) + 1\n",
    "    # Loop over all batches\n",
    "    for i in range(num_batch): \n",
    "        batch_xs, _ = mnist.train.next_batch(batch_size)\n",
    "        train = np.array([image - mean_image for image in batch_xs])\n",
    "        sess.run(optm, feed_dict={x: train})\n",
    "                     \n",
    "        # Compute average loss\n",
    "        avg_cost += sess.run(cost, feed_dict={x: train}) / num_batch\n",
    "\n",
    "    # Display log per epoch step\n",
    "    if epoch % display_step == 0:\n",
    "        print (\"Epoch: %03d/%03d cost: %.9f\" % (epoch, training_epochs, avg_cost))\n",
    "            \n",
    "    # Save Net\n",
    "    #if epoch % save_step == 0:\n",
    "        #saver.save(sess, \"nets/cnn_encoder_decoder.ckpt-\" + str(epoch))\n",
    "\n",
    "print (\"Optimization Finished!\")"
   ]
  },
  {
   "cell_type": "code",
   "execution_count": 57,
   "metadata": {
    "collapsed": false
   },
   "outputs": [
    {
     "data": {
      "image/png": "[encoded data removed]",
      "text/plain": [
       "<matplotlib.figure.Figure at 0x7f4a0ee1f990>"
      ]
     },
     "metadata": {},
     "output_type": "display_data"
    },
    {
     "data": {
      "image/png": "[encoded data removed]",
      "text/plain": [
       "<matplotlib.figure.Figure at 0x7f4a21521490>"
      ]
     },
     "metadata": {},
     "output_type": "display_data"
    },
    {
     "data": {
      "image/png": "[encoded data removed]",
      "text/plain": [
       "<matplotlib.figure.Figure at 0x7f4a257f71d0>"
      ]
     },
     "metadata": {},
     "output_type": "display_data"
    }
   ],
   "source": [
    "# 4. • Reconstruct images from corrupted images with Gaussian noise\n",
    "\n",
    "# Test one\n",
    "randidx  = np.random.randint(testimg.shape[0], size=1)\n",
    "testvec  = testimg[randidx, :]\n",
    "noisyvec = testvec + 0.3 * np.random.randn(1, 784)\n",
    "outvec   = sess.run(out, feed_dict={x: testvec})\n",
    "outimg   = np.reshape(outvec, (28, 28))\n",
    "\n",
    "# Plot \n",
    "plt.matshow(np.reshape(testvec, (28, 28)), cmap=plt.get_cmap('gray'))\n",
    "plt.title(\"[\" + str(epoch) + \"] Original Image\")\n",
    "plt.colorbar()\n",
    "\n",
    "plt.matshow(np.reshape(noisyvec, (28, 28)), cmap=plt.get_cmap('gray'))\n",
    "plt.title(\"[\" + str(epoch) + \"] Input Image\")\n",
    "plt.colorbar()\n",
    "\n",
    "plt.matshow(outimg, cmap=plt.get_cmap('gray'))\n",
    "plt.title(\"[\" + str(epoch) + \"] Reconstructed Image\")\n",
    "plt.colorbar()\n",
    "plt.show()"
   ]
  },
  {
   "cell_type": "code",
   "execution_count": 58,
   "metadata": {
    "collapsed": false
   },
   "outputs": [
    {
     "data": {
      "image/png": "[encoded data removed]",
      "text/plain": [
       "<matplotlib.figure.Figure at 0x7f4a25775990>"
      ]
     },
     "metadata": {},
     "output_type": "display_data"
    },
    {
     "data": {
      "image/png": "[encoded data removed]",
      "text/plain": [
       "<matplotlib.figure.Figure at 0x7f4a254d6090>"
      ]
     },
     "metadata": {},
     "output_type": "display_data"
    },
    {
     "data": {
      "image/png": "[encoded data removed]",
      "text/plain": [
       "<matplotlib.figure.Figure at 0x7f4a253f0090>"
      ]
     },
     "metadata": {},
     "output_type": "display_data"
    }
   ],
   "source": [
    "# 4. • Reconstruct images from corrumpted images by normalization\n",
    "\n",
    "# Test one, as was in assignment6 pdf file\n",
    "test_xs, _ = mnist.test.next_batch(1)\n",
    "test_xs_norm = np.array([image - mean_image for image in test_xs])\n",
    "\n",
    "outvec   = sess.run(out, feed_dict={x: test_xs_norm})\n",
    "outimg   = np.reshape(outvec, (28, 28))\n",
    "\n",
    "# Plot \n",
    "plt.matshow(np.reshape(test_xs, (28, 28)), cmap=plt.get_cmap('gray'))\n",
    "plt.title(\"[\" + str(epoch) + \"] Original Image\")\n",
    "plt.colorbar()\n",
    "\n",
    "plt.matshow(np.reshape(test_xs_norm, (28, 28)), cmap=plt.get_cmap('gray'))\n",
    "plt.title(\"[\" + str(epoch) + \"] Input Image\")\n",
    "plt.colorbar()\n",
    "\n",
    "plt.matshow(outimg, cmap=plt.get_cmap('gray'))\n",
    "plt.title(\"[\" + str(epoch) + \"] Reconstructed Image\")\n",
    "plt.colorbar()\n",
    "plt.show()"
   ]
  },
  {
   "cell_type": "code",
   "execution_count": null,
   "metadata": {
    "collapsed": true
   },
   "outputs": [],
   "source": []
  }
 ],
 "metadata": {
  "kernelspec": {
   "display_name": "Python 2",
   "language": "python",
   "name": "python2"
  },
  "language_info": {
   "codemirror_mode": {
    "name": "ipython",
    "version": 2
   },
   "file_extension": ".py",
   "mimetype": "text/x-python",
   "name": "python",
   "nbconvert_exporter": "python",
   "pygments_lexer": "ipython2",
   "version": "2.7.10"
  }
 },
 "nbformat": 4,
 "nbformat_minor": 0
}
