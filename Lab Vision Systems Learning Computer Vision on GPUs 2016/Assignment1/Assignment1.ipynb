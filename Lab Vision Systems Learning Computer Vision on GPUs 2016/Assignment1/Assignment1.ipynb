{
 "cells": [
  {
   "cell_type": "code",
   "execution_count": 3,
   "metadata": {
    "collapsed": false
   },
   "outputs": [],
   "source": [
    "import tensorflow as tf\n",
    "\n",
    "session = tf.Session()\n",
    "\n",
    "#variable initialization\n",
    "x = tf.placeholder(\"float\", [100, 784], name = \"x\")\n",
    "y = tf.placeholder(\"float\", [100, 10], name = \"y\")\n",
    "W = tf.Variable(tf.random_normal([784, 10]), name = \"W\")\n",
    "b = tf.Variable(tf.zeros([100, 10]), name = \"b\")\n",
    "\n",
    "#calculation of netSum, activation, and cost function\n",
    "multXW = tf.matmul(x, W)\n",
    "netSum = tf.add(multXW, b)\n",
    "activation = tf.nn.softmax(netSum, name=\"softmax_out\")\n",
    "cost = tf.sub(activation, y)\n",
    "\n",
    "#squareError, mean and rank\n",
    "squareError = tf.square(cost)\n",
    "mean = tf.reduce_mean(squareError, 1)\n",
    "rank = tf.rank(squareError, \"Rank\") #NOT REQUIRED\n",
    "\n",
    "\n",
    "relu_out = tf.nn.relu(mean)\n",
    "session.run(tf.initialize_all_variables())\n",
    "writer = tf.train.SummaryWriter('/tmp/tf_logs/relu', session.graph)"
   ]
  },
  {
   "cell_type": "code",
   "execution_count": null,
   "metadata": {
    "collapsed": true
   },
   "outputs": [],
   "source": []
  }
 ],
 "metadata": {
  "kernelspec": {
   "display_name": "Python 2",
   "language": "python",
   "name": "python2"
  },
  "language_info": {
   "codemirror_mode": {
    "name": "ipython",
    "version": 2
   },
   "file_extension": ".py",
   "mimetype": "text/x-python",
   "name": "python",
   "nbconvert_exporter": "python",
   "pygments_lexer": "ipython2",
   "version": "2.7.11"
  }
 },
 "nbformat": 4,
 "nbformat_minor": 0
}
